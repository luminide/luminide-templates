{
 "cells": [
  {
   "cell_type": "code",
   "execution_count": null,
   "id": "bd553cb0",
   "metadata": {},
   "outputs": [],
   "source": [
    "import pandas as pd\n",
    "input_dir = '../input'\n",
    "df = pd.read_csv(f'{input_dir}/{{ cookiecutter.train_metadata }}')\n",
    "df.head()"
   ]
  },
  {
   "cell_type": "code",
   "execution_count": null,
   "id": "0683f0e4",
   "metadata": {},
   "outputs": [],
   "source": [
    "df['{{ cookiecutter.label_column }}'].value_counts().plot(kind='bar')"
   ]
  },
  {
   "cell_type": "code",
   "execution_count": null,
   "id": "b8326b8b",
   "metadata": {},
   "outputs": [],
   "source": [
    "import os\n",
    "import cv2\n",
    "from matplotlib import pyplot as plt\n",
    "\n",
    "for cls in range({{ cookiecutter.num_classes }}):\n",
    "    fig = plt.figure(figsize=(20, 20))\n",
    "    ax = fig.subplots(1, 4)\n",
    "    df_cls = df[df['{{ cookiecutter.label_column }}'] == cls].iloc[:4]\n",
    "    for i, filename in enumerate(df_cls['{{ cookiecutter.image_column }}']):\n",
    "        im = cv2.imread(f'{input_dir}/{{ cookiecutter.train_image_dir }}/{filename}')\n",
    "        im = cv2.cvtColor(im, cv2.COLOR_BGR2RGB)\n",
    "        ax[i].imshow(im)\n",
    "plt.show()"
   ]
  }
 ],
 "metadata": {
  "kernelspec": {
   "display_name": "Python 3",
   "language": "python",
   "name": "python3"
  },
  "language_info": {
   "codemirror_mode": {
    "name": "ipython",
    "version": 3
   },
   "file_extension": ".py",
   "mimetype": "text/x-python",
   "name": "python",
   "nbconvert_exporter": "python",
   "pygments_lexer": "ipython3",
   "version": "3.8.5"
  }
 },
 "nbformat": 4,
 "nbformat_minor": 5
}
