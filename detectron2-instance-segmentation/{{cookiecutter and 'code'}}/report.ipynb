{
 "cells": [
  {
   "cell_type": "markdown",
   "metadata": {},
   "source": [
    "## Training progress"
   ]
  },
  {
   "cell_type": "code",
   "execution_count": null,
   "metadata": {},
   "outputs": [],
   "source": [
    "import sys\n",
    "import os\n",
    "import pandas as pd\n",
    "\n",
    "working_dir = '../output'\n",
    "history_file = f'{working_dir}/history.csv'\n",
    "if not os.path.exists(history_file):\n",
    "    print(f'{history_file} not found')\n",
    "    print('must train a model before running this')\n",
    "    sys.exit()\n",
    "    \n",
    "df = pd.read_csv(history_file)\n",
    "\n",
    "train_loss = []\n",
    "val_loss = []\n",
    "for _, group in df.groupby('epoch'):\n",
    "    train_loss.append(group['train_loss'].mean())\n",
    "    val_loss.append(group['epoch_val_loss'].mean())\n",
    "\n",
    "loss_df = pd.DataFrame({'Training loss': train_loss, 'Validation loss': val_loss})\n",
    "min_val_loss = df['epoch_val_loss'].min()\n",
    "plots = loss_df.plot(xlabel='Epoch', grid=True, title=f'Minimum validation loss {min_val_loss:.4f}')"
   ]
  },
  {
   "cell_type": "markdown",
   "metadata": {},
   "source": [
    "## Sample predictions versus ground truth"
   ]
  },
  {
   "cell_type": "code",
   "execution_count": null,
   "metadata": {},
   "outputs": [],
   "source": [
    "import warnings\n",
    "warnings.filterwarnings(\"ignore\")\n",
    "\n",
    "import random\n",
    "import cv2\n",
    "from matplotlib import pyplot as plt\n",
    "\n",
    "from detectron2.config import CfgNode as CN\n",
    "from detectron2.engine import DefaultPredictor\n",
    "from detectron2.data import DatasetCatalog, MetadataCatalog\n",
    "from detectron2.data.datasets import register_coco_instances\n",
    "from detectron2.utils.visualizer import Visualizer\n",
    "\n",
    "\n",
    "input_dir = '../input'\n",
    "img_dir = f'{input_dir}/train'\n",
    "set_name = 'val'\n",
    "json_file = f'{working_dir}/{set_name}-dicts-coco.json'\n",
    "assert os.path.exists(json_file)\n",
    "\n",
    "try:\n",
    "    register_coco_instances(set_name, {}, json_file, img_dir)   \n",
    "except:\n",
    "    pass\n",
    "\n",
    "cfg = CN.load_cfg(open(f'{working_dir}/cfg.yaml'))\n",
    "cfg.MODEL.WEIGHTS = f'{working_dir}/model.pth'\n",
    "cfg.MODEL.ROI_HEADS.SCORE_THRESH_TEST = 0.5\n",
    "predictor = DefaultPredictor(cfg)\n",
    "dataset_dicts = DatasetCatalog.get(set_name)\n",
    "\n",
    "# display this many samples\n",
    "count = 3\n",
    "\n",
    "fig = plt.figure(figsize=(20, 25))\n",
    "ax = fig.subplots(count, 2)\n",
    "ax[0, 0].set_title('Prediction')\n",
    "ax[0, 1].set_title('Ground Truth')\n",
    "for i, dd in enumerate(random.sample(dataset_dicts, count)):    \n",
    "    im = cv2.imread(dd['file_name'])\n",
    "    im = cv2.cvtColor(im, cv2.COLOR_BGR2RGB)\n",
    "    outputs = predictor(im)\n",
    "    v = Visualizer(im, metadata=MetadataCatalog.get(set_name))\n",
    "    pred = v.draw_instance_predictions(outputs['instances'].to('cpu'))\n",
    "    visualizer = Visualizer(im, metadata=MetadataCatalog.get(set_name))\n",
    "    target = visualizer.draw_dataset_dict(dd)\n",
    "    pred_img = cv2.cvtColor(pred.get_image(), cv2.COLOR_BGR2RGB)\n",
    "    target_img = cv2.cvtColor(target.get_image(), cv2.COLOR_BGR2RGB)\n",
    "    ax[i, 0].imshow(pred_img)\n",
    "    ax[i, 1].imshow(target_img)"
   ]
  },
  {
   "cell_type": "code",
   "execution_count": null,
   "metadata": {},
   "outputs": [],
   "source": []
  }
 ],
 "metadata": {
  "kernelspec": {
   "display_name": "Python 3 (ipykernel)",
   "language": "python",
   "name": "python3"
  },
  "language_info": {
   "codemirror_mode": {
    "name": "ipython",
    "version": 3
   },
   "file_extension": ".py",
   "mimetype": "text/x-python",
   "name": "python",
   "nbconvert_exporter": "python",
   "pygments_lexer": "ipython3",
   "version": "3.8.10"
  }
 },
 "nbformat": 4,
 "nbformat_minor": 4
}
