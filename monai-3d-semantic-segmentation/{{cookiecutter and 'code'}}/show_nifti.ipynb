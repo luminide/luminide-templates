{
 "cells": [
  {
   "cell_type": "code",
   "execution_count": null,
   "metadata": {},
   "outputs": [],
   "source": [
    "import nibabel as nib\n",
    "import numpy as np\n",
    "\n",
    "input_dir = '../nifti'\n",
    "\n",
    "study = 'case6_day0'\n",
    "img_file = f'{input_dir}/{study}.nii.gz'\n",
    "msk_file = f'{input_dir}/{study}.msk.nii.gz'\n",
    "\n",
    "img = nib.load(img_file)\n",
    "img = np.asanyarray(img.dataobj)\n",
    "img = np.expand_dims(img, 3)\n",
    "img = img.transpose((2, 0, 1, 3))\n",
    "\n",
    "msk = nib.load(msk_file)\n",
    "msk = np.asanyarray(msk.dataobj)\n",
    "# convert from HWDC to DHWC\n",
    "msk = msk.transpose((2, 0, 1, 3))\n"
   ]
  },
  {
   "cell_type": "code",
   "execution_count": null,
   "metadata": {},
   "outputs": [],
   "source": [
    "img = img[100:200]\n",
    "msk = msk[100:200]\n",
    "print(img.shape)\n",
    "print(msk.shape)\n",
    "img /= img.max()\n",
    "img *= 255\n",
    "print(img.max())\n",
    "print(img.min())"
   ]
  },
  {
   "cell_type": "code",
   "execution_count": null,
   "metadata": {},
   "outputs": [],
   "source": [
    "from matplotlib import pyplot as plt\n",
    "from IPython.display import HTML\n",
    "\n",
    "from matplotlib import animation, rc\n",
    "\n",
    "rc('animation', html='jshtml')\n",
    "\n",
    "def create_animation(ims):\n",
    "    fig = plt.figure(figsize=(6, 6))\n",
    "    plt.axis('off')\n",
    "    im = plt.imshow(ims[ims.shape[0]//2], cmap=\"gray\")\n",
    "\n",
    "    def animate_func(i):\n",
    "        im.set_array(ims[i])\n",
    "        return [im]\n",
    "\n",
    "    return animation.FuncAnimation(fig, animate_func, frames=len(ims), interval=1000//24)\n"
   ]
  },
  {
   "cell_type": "code",
   "execution_count": null,
   "metadata": {},
   "outputs": [],
   "source": [
    "from ipywidgets import Output, GridspecLayout\n",
    "from IPython import display\n",
    "\n",
    "grid = GridspecLayout(1, 2)\n",
    "\n",
    "img_out = Output()\n",
    "with img_out:\n",
    "    display.display(create_animation(img))\n",
    "grid[0, 0] = img_out\n",
    "\n",
    "msk_out = Output()\n",
    "with msk_out:\n",
    "    display.display(create_animation(msk))\n",
    "grid[0, 1] = msk_out\n",
    "\n",
    "grid"
   ]
  },
  {
   "cell_type": "code",
   "execution_count": null,
   "metadata": {},
   "outputs": [],
   "source": []
  }
 ],
 "metadata": {
  "kernelspec": {
   "display_name": "Python 3 (ipykernel)",
   "language": "python",
   "name": "python3"
  },
  "language_info": {
   "codemirror_mode": {
    "name": "ipython",
    "version": 3
   },
   "file_extension": ".py",
   "mimetype": "text/x-python",
   "name": "python",
   "nbconvert_exporter": "python",
   "pygments_lexer": "ipython3",
   "version": "3.8.10"
  }
 },
 "nbformat": 4,
 "nbformat_minor": 4
}
