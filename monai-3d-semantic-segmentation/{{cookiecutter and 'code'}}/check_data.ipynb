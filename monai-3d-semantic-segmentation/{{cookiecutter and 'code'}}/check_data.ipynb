{
 "cells": [
  {
   "cell_type": "code",
   "execution_count": null,
   "metadata": {},
   "outputs": [],
   "source": [
    "from matplotlib import animation, rc\n",
    "rc('animation', html='jshtml')\n",
    "\n",
    "def create_animation(ims):\n",
    "    fig = plt.figure(figsize=(6, 6))\n",
    "    plt.axis('off')\n",
    "    im = plt.imshow(ims[len(ims)//2], cmap=\"gray\")\n",
    "\n",
    "    def animate_func(i):\n",
    "        im.set_array(ims[i])\n",
    "        return [im]\n",
    "\n",
    "    return animation.FuncAnimation(fig, animate_func, frames = len(ims), interval = 1000//24)"
   ]
  },
  {
   "cell_type": "code",
   "execution_count": null,
   "metadata": {},
   "outputs": [],
   "source": [
    "import torch\n",
    "from matplotlib import pyplot as plt\n",
    "\n",
    "from train import Trainer\n",
    "from config import Config\n",
    "from util import visualize\n",
    "\n",
    "conf = Config()\n",
    "device = torch.device('cpu')\n",
    "conf.batch_size = 4\n",
    "input_dir = '../input'\n",
    "trainer = Trainer(conf, input_dir, device, 1, None)\n",
    "loader = trainer.train_loader\n",
    "batch = iter(loader).next()\n",
    "images, labels = batch['img'], batch['msk']\n",
    "\n",
    "# the data is in NCWHD format\n",
    "middle = images.shape[-1]//2\n",
    "images = images.numpy()[..., middle - 5:middle + 5]\n",
    "labels = labels.numpy()[...,  middle - 5:middle + 5]\n",
    "anims = []\n",
    "for image, label in zip(images, labels):\n",
    "    # the data is CWHD format\n",
    "    image = image.transpose((3, 2, 1, 0))\n",
    "    label = label.transpose((3, 2, 1, 0))\n",
    "    image -= image.min()\n",
    "    image /= image.max()  \n",
    "    \n",
    "    anims.append(create_animation(image))\n",
    "    anims.append(create_animation(label))\n",
    "    "
   ]
  },
  {
   "cell_type": "code",
   "execution_count": null,
   "metadata": {},
   "outputs": [],
   "source": [
    "from ipywidgets import Output, GridspecLayout\n",
    "from IPython import display\n",
    "\n",
    "grid = GridspecLayout(len(anims), 1)\n",
    "for i, anim in enumerate(anims):\n",
    "    train_out = Output()\n",
    "    with train_out:\n",
    "        display.display(anim)\n",
    "    grid[i, 0] = train_out\n",
    "\n",
    "grid"
   ]
  },
  {
   "cell_type": "code",
   "execution_count": null,
   "metadata": {},
   "outputs": [],
   "source": []
  }
 ],
 "metadata": {
  "kernelspec": {
   "display_name": "Python 3 (ipykernel)",
   "language": "python",
   "name": "python3"
  },
  "language_info": {
   "codemirror_mode": {
    "name": "ipython",
    "version": 3
   },
   "file_extension": ".py",
   "mimetype": "text/x-python",
   "name": "python",
   "nbconvert_exporter": "python",
   "pygments_lexer": "ipython3",
   "version": "3.8.10"
  }
 },
 "nbformat": 4,
 "nbformat_minor": 4
}
