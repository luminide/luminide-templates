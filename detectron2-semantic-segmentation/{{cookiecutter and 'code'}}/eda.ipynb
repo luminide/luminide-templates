{
 "cells": [
  {
   "cell_type": "code",
   "execution_count": null,
   "id": "bd553cb0",
   "metadata": {},
   "outputs": [],
   "source": [
    "import os\n",
    "import sys\n",
    "from pycocotools.coco import COCO\n",
    "import skimage.io as io\n",
    "import matplotlib.pyplot as plt\n",
    "from pathlib import Path\n",
    "from PIL import Image\n",
    "\n",
    "json_file = 'train-dicts-coco.json'\n",
    "if not os.path.exists(json_file):\n",
    "    print(f'{json_file} not found')\n",
    "    print('prep.sh must be run to preprocess the dataset')\n",
    "    sys.exit()\n",
    "\n",
    "data_dir = Path(f'../input/{{ cookiecutter.train_image_dir }}')\n",
    "ann_file = Path(json_file)\n",
    "coco = COCO(ann_file)\n",
    "img_ids = coco.getImgIds()"
   ]
  },
  {
   "cell_type": "markdown",
   "id": "82a3388c-65cd-470e-8f1f-4d486cd62293",
   "metadata": {},
   "source": [
    "### Sample images"
   ]
  },
  {
   "cell_type": "code",
   "execution_count": null,
   "id": "b8326b8b",
   "metadata": {},
   "outputs": [],
   "source": [
    "count = 5\n",
    "img_recs = coco.loadImgs(img_ids[:count])\n",
    "_,axs = plt.subplots(len(img_recs), 2, figsize=(40, 15*len(img_recs)))\n",
    "print('rendering images and masks...')\n",
    "for img_rec, ax in zip(img_recs, axs):\n",
    "    img = io.imread(data_dir/img_rec['file_name'])\n",
    "    ann_ids = coco.getAnnIds(imgIds=[img_rec['id']])\n",
    "    anns = coco.loadAnns(ann_ids)\n",
    "    ax[0].imshow(img)\n",
    "    ax[1].imshow(img)\n",
    "    plt.sca(ax[1])\n",
    "    coco.showAnns(anns, draw_bbox=False)"
   ]
  }
 ],
 "metadata": {
  "kernelspec": {
   "display_name": "Python 3 (ipykernel)",
   "language": "python",
   "name": "python3"
  },
  "language_info": {
   "codemirror_mode": {
    "name": "ipython",
    "version": 3
   },
   "file_extension": ".py",
   "mimetype": "text/x-python",
   "name": "python",
   "nbconvert_exporter": "python",
   "pygments_lexer": "ipython3",
   "version": "3.8.10"
  }
 },
 "nbformat": 4,
 "nbformat_minor": 5
}
