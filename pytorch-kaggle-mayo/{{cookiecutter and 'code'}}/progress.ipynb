{
 "cells": [
  {
   "cell_type": "markdown",
   "metadata": {},
   "source": [
    "## Training progress"
   ]
  },
  {
   "cell_type": "code",
   "execution_count": null,
   "metadata": {},
   "outputs": [],
   "source": [
    "import sys\n",
    "import os\n",
    "import cv2\n",
    "import numpy as np\n",
    "from matplotlib import pyplot as plt\n",
    "\n",
    "from config import Config\n",
    "\n",
    "working_dir = '../output'\n",
    "\n",
    "img_idx = 0\n",
    "num_classes = 8\n",
    "epoch = 0\n",
    "while True:\n",
    "    masks = [f'mask{img_idx}_c{c}_e{epoch}.png' for c in range(num_classes)]\n",
    "    masked_inputs = [f'masked_input{img_idx}_c{c}_e{epoch}.png' for c in range(num_classes)]\n",
    "    if not os.path.exists(f'{working_dir}/{masked_inputs[0]}'):\n",
    "        break\n",
    "    fig = plt.figure(figsize=(40, 10))\n",
    "    ax = fig.subplots(2, num_classes + 1)\n",
    "    im = cv2.imread(f'{working_dir}/input{img_idx}_e{epoch}.png')\n",
    "    im = cv2.cvtColor(im, cv2.COLOR_BGR2RGB)\n",
    "    ax[0, 0].imshow(im)\n",
    "    ax[0, 0].set_title(f'epoch {epoch}')\n",
    "    ax[1, 0].imshow(im)\n",
    "    ax[1, 0].set_title(f'epoch {epoch}')\n",
    "    for i, filename in enumerate(masks):\n",
    "        im = cv2.imread(f'{working_dir}/{filename}')\n",
    "        im = cv2.cvtColor(im, cv2.COLOR_BGR2RGB)\n",
    "        ax[0, i + 1].imshow(im)\n",
    "        ax[0, i + 1].set_title(f'mask channel {i}')\n",
    "    for i, filename in enumerate(masked_inputs):\n",
    "        im = cv2.imread(f'{working_dir}/{filename}')\n",
    "        im = cv2.cvtColor(im, cv2.COLOR_BGR2RGB)\n",
    "        ax[1, i + 1].imshow(im)\n",
    "        ax[1, i + 1].set_title(f'input channel {i}')\n",
    "    epoch += 1\n",
    "plt.show()"
   ]
  },
  {
   "cell_type": "code",
   "execution_count": null,
   "metadata": {},
   "outputs": [],
   "source": []
  }
 ],
 "metadata": {
  "kernelspec": {
   "display_name": "Python 3 (ipykernel)",
   "language": "python",
   "name": "python3"
  },
  "language_info": {
   "codemirror_mode": {
    "name": "ipython",
    "version": 3
   },
   "file_extension": ".py",
   "mimetype": "text/x-python",
   "name": "python",
   "nbconvert_exporter": "python",
   "pygments_lexer": "ipython3",
   "version": "3.8.10"
  }
 },
 "nbformat": 4,
 "nbformat_minor": 4
}
