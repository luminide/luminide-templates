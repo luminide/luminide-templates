{
 "cells": [
  {
   "cell_type": "markdown",
   "metadata": {},
   "source": [
    "## Training progress"
   ]
  },
  {
   "cell_type": "code",
   "execution_count": null,
   "metadata": {},
   "outputs": [],
   "source": [
    "import sys\n",
    "import os\n",
    "import cv2\n",
    "import numpy as np\n",
    "from matplotlib import pyplot as plt\n",
    "\n",
    "from config import Config\n",
    "\n",
    "working_dir = '../output'\n",
    "\n",
    "img_idx = 0\n",
    "num_classes = 8\n",
    "num_epochs = 37\n",
    "for epoch in range(num_epochs):\n",
    "    masked_inputs = [f'masked_input{img_idx}_c{c}_e{epoch}.png' for c in range(num_classes)]\n",
    "    fig = plt.figure(figsize=(20, 20))\n",
    "    ax = fig.subplots(1, num_classes)\n",
    "    for i, filename in enumerate(masked_inputs):\n",
    "        im = cv2.imread(f'{working_dir}/{filename}')\n",
    "        im = cv2.cvtColor(im, cv2.COLOR_BGR2RGB)\n",
    "        ax[i].imshow(im)\n",
    "        ax[i].set_title(f'epoch {epoch} channel {i}')\n",
    "plt.show()"
   ]
  },
  {
   "cell_type": "code",
   "execution_count": null,
   "metadata": {},
   "outputs": [],
   "source": []
  }
 ],
 "metadata": {
  "kernelspec": {
   "display_name": "Python 3 (ipykernel)",
   "language": "python",
   "name": "python3"
  },
  "language_info": {
   "codemirror_mode": {
    "name": "ipython",
    "version": 3
   },
   "file_extension": ".py",
   "mimetype": "text/x-python",
   "name": "python",
   "nbconvert_exporter": "python",
   "pygments_lexer": "ipython3",
   "version": "3.8.10"
  }
 },
 "nbformat": 4,
 "nbformat_minor": 4
}
